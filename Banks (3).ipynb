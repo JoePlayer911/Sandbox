{
 "cells": [
  {
   "cell_type": "code",
   "execution_count": 1,
   "id": "f0eda2a6-cdd3-46ac-b0d6-f38a382d6f78",
   "metadata": {},
   "outputs": [],
   "source": [
    "class Banks():\n",
    "    def __init__(self, uname):\n",
    "        self.name = uname\n",
    "        self.__balance = 0\n",
    "        self.bankname = \"Taipei Bank\"\n",
    "        \n",
    "    def save_money(save, money):\n",
    "        self.balance += money\n",
    "        print(\"Deposit \", money, \"complete\")\n",
    "        \n",
    "    def withdraw_money(self, money):\n",
    "        self.balance -= money\n",
    "        print(\"Withdraw \", money, \"complete\")\n",
    "        \n",
    "    def get_balance(self):\n",
    "        print(self.name.title(), \" current balance: \", self.balance)"
   ]
  },
  {
   "cell_type": "code",
   "execution_count": null,
   "id": "93f59139-fda3-47f4-8d35-48440dbfb3fe",
   "metadata": {},
   "outputs": [],
   "source": [
    "from Banks import *\n",
    "\n",
    "hungbank = Banks('hung')\n",
    "hungbank."
   ]
  }
 ],
 "metadata": {
  "kernelspec": {
   "display_name": "Python 3",
   "language": "python",
   "name": "python3"
  },
  "language_info": {
   "codemirror_mode": {
    "name": "ipython",
    "version": 3
   },
   "file_extension": ".py",
   "mimetype": "text/x-python",
   "name": "python",
   "nbconvert_exporter": "python",
   "pygments_lexer": "ipython3",
   "version": "3.8.8"
  }
 },
 "nbformat": 4,
 "nbformat_minor": 5
}
